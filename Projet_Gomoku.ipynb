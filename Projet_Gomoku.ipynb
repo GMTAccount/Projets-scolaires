{
  "nbformat": 4,
  "nbformat_minor": 0,
  "metadata": {
    "colab": {
      "name": "Projet Gomoku",
      "provenance": [],
      "collapsed_sections": [],
      "include_colab_link": true
    },
    "kernelspec": {
      "name": "python3",
      "display_name": "Python 3"
    },
    "language_info": {
      "name": "python"
    },
    "accelerator": "GPU"
  },
  "cells": [
    {
      "cell_type": "markdown",
      "metadata": {
        "id": "view-in-github",
        "colab_type": "text"
      },
      "source": [
        "<a href=\"https://colab.research.google.com/github/GMTAccount/Projets-scolaires/blob/main/Projet_Gomoku.ipynb\" target=\"_parent\"><img src=\"https://colab.research.google.com/assets/colab-badge.svg\" alt=\"Open In Colab\"/></a>"
      ]
    },
    {
      "cell_type": "code",
      "execution_count": null,
      "metadata": {
        "colab": {
          "base_uri": "https://localhost:8080/"
        },
        "id": "Rm9txJPICE2c",
        "outputId": "16bb970f-e3cb-4734-8cf4-6d074ccfcc42"
      },
      "outputs": [
        {
          "output_type": "stream",
          "name": "stdout",
          "text": [
            "hello  test \n",
            "test2\n"
          ]
        }
      ],
      "source": [
        "print ( \"hello\" , \" test \")\n",
        "print(\"test2\")\n",
        "#fonction 1: Méthod einitialisation (creation plateau de jeu) V\n",
        "#fonction 2: Attribution Joueur  V\n",
        "#fonction 3: Affichage du plateau + avec coordonées  V\n",
        "#fonction 4: Saisie sécurisée de placement + affichage placement chosii par l'IA  (en cours)\n",
        "#fonction 5: menu  V\n",
        "#fonction 5,5: Saisie 1ers pions (en cours)\n",
        "#fonction 6: timer V\n",
        "#fonction 7: Fonction minimax V\n",
        "#fonction 8: Terminal Test return 0 (égalité) 1(on a gagné) 2 (aversaire a gagné) -1 (partie non finie) V\n",
        "#fonction 9: Actions (récapitule toutes les acttions)  V\n",
        "#fonction 10: utility (détermine quelle est la meilleure action) (en cours)\n",
        "#Fonction 11:décision,/result (applique l'action) V\n",
        "\n",
        "#class Gomoko V\n",
        "#attributs: matrice de 0 1 2\n",
        "            #joueur: booleen\n",
        "#méthodes: Affichage\n",
        "            #saisie etc\n",
        "            #init timer\n",
        "\n",
        "#MAIN: menu\n",
        "\n",
        "#0 : pas occupé, 1 : occupé par nous, 2 : occupé par l'adversaire"
      ]
    },
    {
      "cell_type": "markdown",
      "source": [
        "<h1>\n",
        "  <em>Projet IA - Gomoku<em>\n",
        "</h1>\n",
        "<ul>\n",
        "  <li style=\"color: green;\">Fonction 1 : Méthode initialisation (creation plateau de jeu) V</li>\n",
        "  <li style=\"color=green;\">Fonction 2: Attribution Joueur  V</li>\n",
        "  <li style=\"color=green;\">Fonction 3: Affichage du plateau + avec coordonées  V</li>\n",
        "  <li style=\"color=green;\">\n",
        "Fonction 4: Saisie sécurisée de placement + affichage placement chosii par l'IA  (en cours)</li>\n",
        "  <li style=\"color=green;\">Fonction 5: menu V</li>\n",
        "  <li style=\"color=green;\">Fonction 5,5: Saisie 1ers pions (à compléter)</li>\n",
        "  <li style=\"color=green;\">Fonction 6: timer V</li>\n",
        "  <li style=\"color=green;\">Fonction 7: Fonction minimax</li>\n",
        "  <li style=\"color=green;\">Fonction 8: Terminal Test return 0 (égalité) 1(on a gagné) 2 (aversaire a gagné) -1 (partie non finie) V</li>\n",
        "  <li style=\"color=green;\">Fonction 9: Actions (récapitule toutes les acttions) (en cours)</li>\n",
        "  <li style=\"color=green;\">Fonction 10: utility (détermine quelle est la meilleure action)</li>\n",
        "  <li style=\"color=green;\">Fonction 11:décision,/result (applique l'action) V</li>\n",
        "  <li style=\"color=green;\">class Gomoko) V</li>\n",
        "</ul>"
      ],
      "metadata": {
        "id": "-1mEUw30dpf5"
      }
    },
    {
      "cell_type": "code",
      "source": [
        "import numpy as np\n",
        "import time"
      ],
      "metadata": {
        "id": "gVAVzRxajtf7"
      },
      "execution_count": null,
      "outputs": []
    },
    {
      "cell_type": "code",
      "source": [
        "#FONCTION 1: INITIALISATION\n",
        "\n",
        "def init_Game():\n",
        "  mat = [[0]*15 for _ in range(15)]\n",
        "  return mat"
      ],
      "metadata": {
        "id": "rIYCSay3N8NE"
      },
      "execution_count": null,
      "outputs": []
    },
    {
      "cell_type": "code",
      "source": [
        "#Fonction 3: AFFICHAGE PLATEAU\n",
        "def Affichage(plateau):    \n",
        "    print(\"   A  B  C  D  E  F  G  H  I  J  K  L  M  N  O\")\n",
        "    for i in range(15):\n",
        "        for j in range(15):\n",
        "            if plateau[i][j]==0:\n",
        "                if j==0:\n",
        "                    if i<10:\n",
        "                        print(i, \" .  \",end=\"\")\n",
        "                    else:\n",
        "                        print(i,\".  \",end=\"\")\n",
        "                else:\n",
        "                    print(\".  \", end=\"\")\n",
        "\n",
        "            elif plateau[i][j]==1:\n",
        "                if j==0:\n",
        "                    if i<10:\n",
        "                        print(i, \" O  \",end=\"\")\n",
        "                    else:\n",
        "                        print(i,\"O  \",end=\"\")\n",
        "                else:\n",
        "                    print(\"O  \", end=\"\")\n",
        "            else:\n",
        "                if j==0:\n",
        "                    if i<10:\n",
        "                        print(i, \" X  \",end=\"\")\n",
        "                    else:\n",
        "                        print(i,\"X  \",end=\"\")\n",
        "                else:\n",
        "                    print(\"X  \", end=\"\")\n",
        "        print(\"\")"
      ],
      "metadata": {
        "id": "LonRcMAuQpTg"
      },
      "execution_count": null,
      "outputs": []
    },
    {
      "cell_type": "code",
      "source": [
        "#TAB_ACTIONS_POSSIBLES 9\n",
        "def Actions(plateau):\n",
        "    tab_actions=[]\n",
        "    nbr_cases=0\n",
        "\n",
        "     for i in range(15):\n",
        "        for j in range(15):\n",
        "            if plateau[i][j]==0:\n",
        "                tab_actions.append([i,j])\n",
        "                nbr_cases+=1\n",
        "  \n",
        "    return tab_actions"
      ],
      "metadata": {
        "id": "5CZS-lFvmZJb"
      },
      "execution_count": null,
      "outputs": []
    },
    {
      "cell_type": "code",
      "source": [
        "#Fonction 5 : MENU\n",
        "\n",
        "def Menu():\n",
        "    print(\"Bonjour et bienvenue dans le Gomoko\")\n",
        "    saisieValide=False\n",
        "    while(saisieValide==False):\n",
        "        print(\"Veuillez choisir un joueur\")\n",
        "        print(\"1 - Joueur 1\\n2 - Joueur 2\")\n",
        "        joueur=input(\"Votre choix : \")\n",
        "        try:\n",
        "            joueur=int(joueur)\n",
        "            saisieValide=(joueur==1) or (joueur==2)\n",
        "            if(not saisieValide):\n",
        "                print(\"Saisie invalide, veuillez réessayer\")\n",
        "        except:\n",
        "            print(\"Saisie invalide, veuillez réessayer\")\n",
        "    print()\n",
        "    print(\"C'est bon\")\n",
        "    estTermine=False\n",
        "    gomoko=Gomoko(joueur)\n",
        "    t=-1\n",
        "    gomoko.Initialisation() #A modifier lorsque la méthode sera crée\n",
        "    while(not estTermine):\n",
        "        gomoko.Affichage() # A modifier si besoin est\n",
        "        gomoko.Saisie()\n",
        "        gomoko.MinMax() # Ajouter d'autres fonctions si y a lieu\n",
        "        t=gomoko.TerminalTest()\n",
        "        if(t!=-1):\n",
        "            estTermine=True\n",
        "    if(t==0):\n",
        "        print(\"Et nous avons une égalité\")\n",
        "    elif(t==1):\n",
        "        print(\"Et notre IA vous a battu.e\")\n",
        "    elif(t==2):\n",
        "        print(\"Et c'est gagné\")\n",
        "    print(\"Merci d'avoir joué\")"
      ],
      "metadata": {
        "id": "unmGG44bQvV_"
      },
      "execution_count": null,
      "outputs": []
    },
    {
      "cell_type": "code",
      "source": [
        "#Fonction 6 : timer\n",
        "#L'idée, c'est qu'il soit appliqué à une autre méthode, via un @timer juste avant\n",
        "def timer(fonction):\n",
        "    \"\"\"\n",
        "    Méthode qui chronomètre le temps d'exécution d'une méthode\n",
        "    Sera utilisé pour mesurer le temps de traitement du MinMax\n",
        "\n",
        "    Parameters\n",
        "    ----------\n",
        "    fonction : Fonction sur laquelle appliquer le timer\n",
        "\n",
        "    Returns\n",
        "    -------\n",
        "    None.\n",
        "\n",
        "    \"\"\"\n",
        "    \n",
        "    def inner(*args,**kwargs):\n",
        "        #Coeur de la méthode de mesure du temps\n",
        "        t=time.time()#Temps en entrée\n",
        "        f=fonction(*args,**kwargs)\n",
        "        print(time.time()-t)#Affichage du temps finel (en secondes)\n",
        "        return f\n",
        "    return inner"
      ],
      "metadata": {
        "id": "QANzRuLXVaoQ"
      },
      "execution_count": null,
      "outputs": []
    },
    {
      "cell_type": "code",
      "source": [
        "#Fonction 7 : MinMax\n",
        "#Celle-ci est divisée en 3 fonctions différentes, pour simplifier le traitement\n",
        "def MaxValue(state):\n",
        "    if TerminalTest(state):\n",
        "        return Utility(state)\n",
        "    v=-float(\"inf\")\n",
        "    for a in Actions(state):\n",
        "        v=max(v,MinValue(application_result(state,a)))\n",
        "    return v\n",
        "\n",
        "def MinValue(state):\n",
        "    if TerminalTest(state):\n",
        "        return Utility(state)\n",
        "    v=float(\"inf\")\n",
        "    for a in Actions(state):\n",
        "        v=min(v,MaxValue(application_result(state,a)))\n",
        "    return v\n",
        "\n",
        "def MinMax():\n",
        "    #Réaliser un classement des différentes valeurs trouvées\n",
        "    a=Actions(self.plateau)\n",
        "    b=(MinValue(Result(action,a)) for action in a)\n",
        "    dico=dict(a,b) #Attention, cette ligne pourrait crash\n",
        "    dico = sorted(dico.items(), key=lambda x: x[1], reverse=True)\n",
        "    actionValide=dico.keys()[0]\n",
        "    application_result(self.plateau,actionValide[0],actionValide[1],self.joueur)"
      ],
      "metadata": {
        "id": "5BKP5nF6oMbC"
      },
      "execution_count": null,
      "outputs": []
    },
    {
      "cell_type": "code",
      "source": [
        "#Fonction 8 : determination du gagnant\n",
        "\n",
        "COL_COUNT=15\n",
        "ROW_COUNT=15\n",
        "def gagnant(plateau, pion):\n",
        "    for c in range(COL_COUNT - 4):\n",
        "        for r in range(ROW_COUNT):\n",
        "            if plateau[r][c] == pion and plateau[r][c+1] == pion and plateau[r][c+2] == pion and plateau[r][c+3] == pion and plateau[r][c+4] == pion:\n",
        "                return True\n",
        "            \n",
        "    for c in range(COL_COUNT):\n",
        "        for r in range(ROW_COUNT-4):\n",
        "            if plateau[r][c] == pion and plateau[r+1][c] == pion and plateau[r+2][c] == pion and plateau[r+3][c] == pion and plateau[r+4][c] == pion:\n",
        "                return True\n",
        "            \n",
        "    for c in range(COL_COUNT-4):\n",
        "        for r in range(4,ROW_COUNT):\n",
        "            if plateau[r][c] == pion and plateau[r-1][c+1] == pion and plateau[r-2][c+2] == pion and plateau[r-3][c+3] == pion and plateau[r-4][c+4] == pion:\n",
        "                return True\n",
        "            \n",
        "    for c in range(COL_COUNT-4):\n",
        "        for r in range(ROW_COUNT-4):\n",
        "            if plateau[r][c] == pion and plateau[r+1][c+1] == pion and plateau[r+2][c+2] == pion and plateau[r+3][c+3] == pion and plateau[r+4][c+4] == pion:\n",
        "                return True"
      ],
      "metadata": {
        "id": "S081WmVkZYLD"
      },
      "execution_count": null,
      "outputs": []
    },
    {
      "cell_type": "code",
      "source": [
        "#FONCTION 11 RESULT/Application\n",
        "def application_result(plateau,i,j,joueur):\n",
        "    plateau[i][j]=joueur\n",
        "    return plateau"
      ],
      "metadata": {
        "id": "U9JgyKi9Xqo3"
      },
      "execution_count": null,
      "outputs": []
    },
    {
      "cell_type": "code",
      "source": [
        "class Gomoko () :\n",
        "    def __init__ ( self):\n",
        "         self.plateau  = [[0,0,0,0,0,0,0,0,0,0,0,0,0,0,0],\n",
        "                    [0,0,0,0,0,0,0,0,0,0,0,0,0,0,0],\n",
        "                    [0,0,0,0,0,0,0,0,0,0,0,0,0,0,0],\n",
        "                    [0,0,0,0,0,0,0,0,0,0,0,0,0,0,0],\n",
        "                    [0,0,0,0,0,0,0,0,0,0,0,0,0,0,0],\n",
        "                    [0,0,0,0,0,0,0,0,0,0,0,0,0,0,0],\n",
        "                    [0,0,0,0,0,0,0,0,0,0,0,0,0,0,0],\n",
        "                    [0,0,0,0,0,0,0,0,0,0,0,0,0,0,0],\n",
        "                    [0,0,0,0,0,0,0,0,0,0,0,0,0,0,0],\n",
        "                    [0,0,0,0,0,0,0,0,0,0,0,0,0,0,0],\n",
        "                    [0,0,0,0,0,0,0,0,0,0,0,0,0,0,0],\n",
        "                    [0,0,0,0,0,0,0,0,0,0,0,0,0,0,0],\n",
        "                    [0,0,0,0,0,0,0,0,0,0,0,0,0,0,0],\n",
        "                    [0,0,0,0,0,0,0,0,0,0,0,0,0,0,0],\n",
        "                    [0,0,0,0,0,0,0,0,0,0,0,0,0,0,0]]\n",
        "         self.joueur \n",
        "       \n",
        "    def __str__ (self):\n",
        "        for i in range( len(self.plateau) ) :\n",
        "            for j in range (len(self.plateau) ) : \n",
        "                print(self.plateau[i][j], end = \"\")\n",
        "            print( )\n",
        "    def Saisie (self) : \n",
        "        \n",
        "        \n",
        "        \n",
        "        lettre = {\"A\" : 1 , \"B\" : 2 , \"C\" : 3 , \"D\" : 4, \"E\" : 5,\n",
        "                  \"F\": 6 , \"G\" : 7 , \"H\" :8  , \"I\" :9 , \"J\" : 10 , \"K\" :11 , \"L\" :12\n",
        "                  , \"M\" :13 , \"N\":14 , \"O\": 15 }\n",
        "        \n",
        "      \n",
        "        \n",
        "        \n",
        "\n",
        "            \n",
        "            \n",
        "        secu3 = False\n",
        "        while secu3 == False :\n",
        "            \n",
        "            \n",
        "            secu1 = False\n",
        "            while secu1 == False : \n",
        "                saisiex =input(\"Saisir la ligne ou vous voulez jouer : (chiffre) \")\n",
        "                try:\n",
        "                    saisiex = int(saisiex)\n",
        "                    \n",
        "                    if  saisiex > 0 and saisiex <= 15  :\n",
        "                        secu1 = True\n",
        "           \n",
        "                    \n",
        "                    if(not secu1):\n",
        "                        print(\"Saisie invalide, veuillez réessayer\")\n",
        "                except:\n",
        "                    print(\"Saisie invalide, veuillez réessayer\")\n",
        "                    \n",
        "            secu2 = False\n",
        "            while secu2 == False : \n",
        "                saisiey =input(\"Saisir la colonnes ou vous voulez jouer : (lettre)\")\n",
        "                            \n",
        "                try:\n",
        "\n",
        "                   if  saisiey in lettre   :\n",
        "                       secu2 = True\n",
        "                   \n",
        "                   if(not secu2):\n",
        "                       print(\"Saisie invalide, veuillez réessayer\")\n",
        "                except:\n",
        "                    print(\"Saisie invalide, veuillez réessayer\")\n",
        "            \n",
        "            \n",
        "            \n",
        "            try:\n",
        "\n",
        "                if self.plateau[saisiex-1][lettre[saisiey]-1] == 1   :\n",
        "                    print( \"pas bien \")\n",
        "                    secu3 = False\n",
        "                else :\n",
        "                    secu3 = True\n",
        "                    \n",
        "                if(not secu3):\n",
        "                    print(\"Position non valide, veuillez réessayer\")\n",
        "                    \n",
        "            except:\n",
        "                print(\"Saisie invalide, veuillez réessayer\")      \n",
        "    #Fonction 5,5 : saisie des premiers points\n",
        "    #Ira dans la classe Gomoko\n",
        "    def Start(self,joueur):\n",
        "        if(joueur==1):\n",
        "            #Placement du joueur 1 au centre du plateau\n",
        "            self.plateau[8][8]=1\n",
        "            #Placement selon l'IA de notre point\n",
        "            self.MinMax() # A modifier, si elle ne fait pas le placement\n",
        "            #Insérer la partie saisie sécurisée en prenant compte des contraintes\n",
        "        else:\n",
        "            self.plateau[8][8]=2\n",
        "            Saisie() # A voir en fonction de ce qui est souhaité\n",
        "            # Reprendre le MinMax, mais vérifier le placement sur de bonnes cases (rayon non valide)\n",
        "\n",
        "            "
      ],
      "metadata": {
        "id": "zYTU-13SSMqx"
      },
      "execution_count": null,
      "outputs": []
    }
  ]
}